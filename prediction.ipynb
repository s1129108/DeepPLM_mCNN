{
 "cells": [
  {
   "cell_type": "code",
   "execution_count": null,
   "id": "b8bd8e25-7f97-49b7-94b0-8207fa4a3141",
   "metadata": {},
   "outputs": [],
   "source": [
    "# install all dependencies\n",
    "# !pip install -r requirements.txt"
   ]
  },
  {
   "cell_type": "code",
   "execution_count": 6,
   "id": "50e4f99c-a711-41e4-a588-681118d80f68",
   "metadata": {},
   "outputs": [],
   "source": [
    "import tensorflow as tf\n",
    "import numpy as np\n",
    "from sklearn import metrics"
   ]
  },
  {
   "cell_type": "code",
   "execution_count": 2,
   "id": "d8990a95-49b4-4955-98fb-d3e6c37c96ab",
   "metadata": {},
   "outputs": [],
   "source": [
    "def predict(x_test, y_test, threshold):\n",
    "    pred_test = model.predict(x_test[0:])\n",
    "    threshold = threshold\n",
    "\n",
    "    y_pred = (pred_test[:, 1] >= threshold).astype(int)\n",
    "    # print(y_pred)\n",
    "\n",
    "    TN, FP, FN, TP =  metrics.confusion_matrix(y_test[0:][:,1], y_pred).ravel()\n",
    "    print(f\"TP={TP}, FP={FP}, TN={TN}, FN={FN}\")\n"
   ]
  },
  {
   "cell_type": "markdown",
   "id": "7acea61c-55c9-463c-b5e1-cec819ffb9c9",
   "metadata": {},
   "source": [
    "# load model"
   ]
  },
  {
   "cell_type": "code",
   "execution_count": 3,
   "id": "a2f9fc75-c143-461b-9d1a-af4f42e7423d",
   "metadata": {
    "scrolled": true
   },
   "outputs": [
    {
     "name": "stderr",
     "output_type": "stream",
     "text": [
      "2024-12-18 15:29:04.040465: I tensorflow/compiler/xla/stream_executor/cuda/cuda_gpu_executor.cc:996] successful NUMA node read from SysFS had negative value (-1), but there must be at least one NUMA node, so returning NUMA node zero. See more at https://github.com/torvalds/linux/blob/v6.0/Documentation/ABI/testing/sysfs-bus-pci#L344-L355\n",
      "2024-12-18 15:29:04.080304: I tensorflow/compiler/xla/stream_executor/cuda/cuda_gpu_executor.cc:996] successful NUMA node read from SysFS had negative value (-1), but there must be at least one NUMA node, so returning NUMA node zero. See more at https://github.com/torvalds/linux/blob/v6.0/Documentation/ABI/testing/sysfs-bus-pci#L344-L355\n",
      "2024-12-18 15:29:04.083145: I tensorflow/compiler/xla/stream_executor/cuda/cuda_gpu_executor.cc:996] successful NUMA node read from SysFS had negative value (-1), but there must be at least one NUMA node, so returning NUMA node zero. See more at https://github.com/torvalds/linux/blob/v6.0/Documentation/ABI/testing/sysfs-bus-pci#L344-L355\n",
      "2024-12-18 15:29:04.087031: I tensorflow/compiler/xla/stream_executor/cuda/cuda_gpu_executor.cc:996] successful NUMA node read from SysFS had negative value (-1), but there must be at least one NUMA node, so returning NUMA node zero. See more at https://github.com/torvalds/linux/blob/v6.0/Documentation/ABI/testing/sysfs-bus-pci#L344-L355\n",
      "2024-12-18 15:29:04.089904: I tensorflow/compiler/xla/stream_executor/cuda/cuda_gpu_executor.cc:996] successful NUMA node read from SysFS had negative value (-1), but there must be at least one NUMA node, so returning NUMA node zero. See more at https://github.com/torvalds/linux/blob/v6.0/Documentation/ABI/testing/sysfs-bus-pci#L344-L355\n",
      "2024-12-18 15:29:04.092564: I tensorflow/compiler/xla/stream_executor/cuda/cuda_gpu_executor.cc:996] successful NUMA node read from SysFS had negative value (-1), but there must be at least one NUMA node, so returning NUMA node zero. See more at https://github.com/torvalds/linux/blob/v6.0/Documentation/ABI/testing/sysfs-bus-pci#L344-L355\n",
      "2024-12-18 15:29:04.472981: I tensorflow/compiler/xla/stream_executor/cuda/cuda_gpu_executor.cc:996] successful NUMA node read from SysFS had negative value (-1), but there must be at least one NUMA node, so returning NUMA node zero. See more at https://github.com/torvalds/linux/blob/v6.0/Documentation/ABI/testing/sysfs-bus-pci#L344-L355\n",
      "2024-12-18 15:29:04.474125: I tensorflow/compiler/xla/stream_executor/cuda/cuda_gpu_executor.cc:996] successful NUMA node read from SysFS had negative value (-1), but there must be at least one NUMA node, so returning NUMA node zero. See more at https://github.com/torvalds/linux/blob/v6.0/Documentation/ABI/testing/sysfs-bus-pci#L344-L355\n",
      "2024-12-18 15:29:04.475189: I tensorflow/compiler/xla/stream_executor/cuda/cuda_gpu_executor.cc:996] successful NUMA node read from SysFS had negative value (-1), but there must be at least one NUMA node, so returning NUMA node zero. See more at https://github.com/torvalds/linux/blob/v6.0/Documentation/ABI/testing/sysfs-bus-pci#L344-L355\n",
      "2024-12-18 15:29:04.476105: I tensorflow/core/common_runtime/gpu/gpu_device.cc:1635] Created device /job:localhost/replica:0/task:0/device:GPU:0 with 21961 MB memory:  -> device: 0, name: NVIDIA GeForce RTX 3090 Ti, pci bus id: 0000:01:00.0, compute capability: 8.6\n"
     ]
    }
   ],
   "source": [
    "CLASS = \"IonChannel\"\n",
    "C = \"Class_A\"\n",
    "length = 1000\n",
    "dim =  1024\n",
    "TYPE = 'pt'\n",
    "imb = \"None\"\n",
    "k_fold = '0'\n",
    "\n",
    "model = tf.keras.models.load_model(f\"save_models/{C}_L{length}_d{dim}_{imb}_{TYPE}_{k_fold}\")\n"
   ]
  },
  {
   "cell_type": "markdown",
   "id": "808e5717-fe00-47f2-bffa-bb7cf785bfd3",
   "metadata": {},
   "source": [
    "# load test and load threshold"
   ]
  },
  {
   "cell_type": "code",
   "execution_count": 5,
   "id": "50aea888-d434-4cd1-a82a-c4c897d8b39b",
   "metadata": {},
   "outputs": [
    {
     "name": "stdout",
     "output_type": "stream",
     "text": [
      "(980, 1, 1000, 1024)\n",
      "(980, 2)\n",
      "0.00011646946222754195\n"
     ]
    }
   ],
   "source": [
    "test_npz = np.load(f\"get_feature/{C}_L{length}_d{dim}_test_{TYPE}.npz\")\n",
    "threshold = np.load(f\"thresholds/{CLASS}_{TYPE}_d{dim}_threshold.npy\")\n",
    "\n",
    "x_test = test_npz[\"feature\"]\n",
    "y_test = test_npz[\"label\"]\n",
    "\n",
    "print(x_test.shape)\n",
    "print(y_test.shape)\n",
    "print(threshold)"
   ]
  },
  {
   "cell_type": "markdown",
   "id": "85db3d97-efed-4c3a-9eb1-347db64ceff5",
   "metadata": {},
   "source": [
    "# prediction"
   ]
  },
  {
   "cell_type": "code",
   "execution_count": 7,
   "id": "8d41b8f7-afd7-4f75-9bc1-e53089a6e267",
   "metadata": {},
   "outputs": [
    {
     "name": "stderr",
     "output_type": "stream",
     "text": [
      "2024-12-18 15:32:15.370237: I tensorflow/compiler/xla/stream_executor/cuda/cuda_dnn.cc:424] Loaded cuDNN version 8903\n"
     ]
    },
    {
     "name": "stdout",
     "output_type": "stream",
     "text": [
      "13/31 [===========>..................] - ETA: 0s"
     ]
    },
    {
     "name": "stderr",
     "output_type": "stream",
     "text": [
      "2024-12-18 15:32:16.058235: I tensorflow/compiler/xla/stream_executor/cuda/cuda_blas.cc:637] TensorFloat-32 will be used for the matrix multiplication. This will only be logged once.\n"
     ]
    },
    {
     "name": "stdout",
     "output_type": "stream",
     "text": [
      "31/31 [==============================] - 1s 17ms/step\n",
      "TP=57, FP=205, TN=715, FN=3\n"
     ]
    }
   ],
   "source": [
    "predict(x_test, y_test, threshold)"
   ]
  },
  {
   "cell_type": "code",
   "execution_count": null,
   "id": "a531cdfb-42fd-4bba-b661-9953020c2df1",
   "metadata": {},
   "outputs": [],
   "source": []
  }
 ],
 "metadata": {
  "kernelspec": {
   "display_name": "Python 3 (ipykernel)",
   "language": "python",
   "name": "python3"
  },
  "language_info": {
   "codemirror_mode": {
    "name": "ipython",
    "version": 3
   },
   "file_extension": ".py",
   "mimetype": "text/x-python",
   "name": "python",
   "nbconvert_exporter": "python",
   "pygments_lexer": "ipython3",
   "version": "3.9.17"
  }
 },
 "nbformat": 4,
 "nbformat_minor": 5
}
